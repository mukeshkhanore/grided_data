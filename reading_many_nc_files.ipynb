{
 "cells": [
  {
   "cell_type": "markdown",
   "id": "495ee847",
   "metadata": {},
   "source": [
    "# code to read many nc files and extract parameter of interest and appended into single list"
   ]
  },
  {
   "cell_type": "code",
   "execution_count": null,
   "id": "de6b35bf",
   "metadata": {},
   "outputs": [],
   "source": [
    "\n",
    "import numpy as np\n",
    "import netCDF4 as nc\n",
    "from glob import glob\n",
    "# you want to modify this to use your actual data directory\n",
    "filename_list = glob('path of the folder/*.nc')\n",
    "\n",
    "variable = []\n",
    "time = []"
   ]
  },
  {
   "cell_type": "code",
   "execution_count": null,
   "id": "6562bd30",
   "metadata": {},
   "outputs": [],
   "source": [
    "for filename in filename_list:  # make filename_list with something like os.listdir\n",
    "   # print(filename)\n",
    "    with nc.Dataset(filename) as ds:\n",
    "        #lats = ds.variables[\"lat\"][:]\n",
    "        #lons = ds.variables[\"lon\"][:]\n",
    "        time.append(ds.variables['time'][:])\n",
    "        variable.append(ds.variables['variable'][:])"
   ]
  },
  {
   "cell_type": "code",
   "execution_count": null,
   "id": "63525ffe",
   "metadata": {},
   "outputs": [],
   "source": [
    "cfm"
   ]
  },
  {
   "cell_type": "code",
   "execution_count": null,
   "id": "44e1a7b7",
   "metadata": {},
   "outputs": [],
   "source": []
  }
 ],
 "metadata": {
  "kernelspec": {
   "display_name": "Python 3",
   "language": "python",
   "name": "python3"
  },
  "language_info": {
   "codemirror_mode": {
    "name": "ipython",
    "version": 3
   },
   "file_extension": ".py",
   "mimetype": "text/x-python",
   "name": "python",
   "nbconvert_exporter": "python",
   "pygments_lexer": "ipython3",
   "version": "3.9.7"
  }
 },
 "nbformat": 4,
 "nbformat_minor": 5
}
