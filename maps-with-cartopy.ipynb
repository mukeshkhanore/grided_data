{
 "cells": [
  {
   "cell_type": "markdown",
   "id": "e177f59c",
   "metadata": {},
   "source": [
    "# code to plot map using cartopy"
   ]
  },
  {
   "cell_type": "code",
   "execution_count": null,
   "id": "45f33f67",
   "metadata": {},
   "outputs": [],
   "source": [
    "from matplotlib import pyplot as plt\n",
    "import matplotlib as mplt\n",
    "import cartopy.crs as ccrs\n",
    "import cartopy.feature as cfea\n",
    "from mpl_toolkits.axes_grid1 import make_axes_locatable"
   ]
  },
  {
   "cell_type": "code",
   "execution_count": null,
   "id": "837ad780",
   "metadata": {},
   "outputs": [],
   "source": [
    "projection=ccrs.PlateCarree()\n",
    "bbox=[-180,180,-60,85];creg='glob'\n",
    "#bbox=[-80,80,-10,80];creg='glob'\n",
    "mplt.rc('xtick', labelsize=9) \n",
    "mplt.rc('ytick', labelsize=9)\n",
    "fig=plt.figure(figsize=(10,5))\n",
    "ax=fig.add_subplot(1,1,1,projection=projection)\n",
    "ax.set_extent(bbox,projection)\n",
    "ax.add_feature(cfea.COASTLINE,lw=.5)\n",
    "ax.add_feature(cfea.RIVERS,lw=.5)\n",
    "ax.add_feature(cfea.BORDERS, linewidth=0.6, edgecolor='dimgray')\n",
    "ax.background_patch.set_facecolor('.9')\n",
    "levels=[1,4,8,11,14,17,21,25,29]\n",
    "cmap=plt.cm.BrBG\n",
    "norm=mplt.colors.BoundaryNorm(levels,cmap.N)\n",
    "ddlalo=.25\n",
    "plt.show()"
   ]
  },
  {
   "cell_type": "code",
   "execution_count": null,
   "id": "2c9064ab",
   "metadata": {},
   "outputs": [],
   "source": []
  }
 ],
 "metadata": {
  "kernelspec": {
   "display_name": "Python 3",
   "language": "python",
   "name": "python3"
  },
  "language_info": {
   "codemirror_mode": {
    "name": "ipython",
    "version": 3
   },
   "file_extension": ".py",
   "mimetype": "text/x-python",
   "name": "python",
   "nbconvert_exporter": "python",
   "pygments_lexer": "ipython3",
   "version": "3.9.7"
  }
 },
 "nbformat": 4,
 "nbformat_minor": 5
}
