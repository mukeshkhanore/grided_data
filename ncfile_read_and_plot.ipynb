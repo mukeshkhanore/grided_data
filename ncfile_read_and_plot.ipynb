{
 "cells": [
  {
   "cell_type": "markdown",
   "id": "4263f030",
   "metadata": {},
   "source": [
    "# code for reading and ploting netcdf file"
   ]
  },
  {
   "cell_type": "markdown",
   "id": "77dfaa4f",
   "metadata": {},
   "source": [
    "##  1. Using netCDF4 library "
   ]
  },
  {
   "cell_type": "code",
   "execution_count": 1,
   "id": "76791598",
   "metadata": {},
   "outputs": [],
   "source": [
    "#imporing required libraries \n",
    "\n",
    "import netCDF4 as nc\n",
    "import numpy as np\n",
    "import matplotlib.pyplot as plt"
   ]
  },
  {
   "cell_type": "code",
   "execution_count": 2,
   "id": "15f2e0df",
   "metadata": {},
   "outputs": [
    {
     "data": {
      "text/plain": [
       "<class 'netCDF4._netCDF4.Dataset'>\n",
       "root group (NETCDF4_CLASSIC data model, file format HDF5):\n",
       "    Conventions: CF-1.4\n",
       "    start_time: 2019-05-31T00:00:00Z\n",
       "    end_time: 2019-05-31T23:59:59Z\n",
       "    temporal_resolution: daily\n",
       "    nco_openmp_thread_number: 1\n",
       "    NCO: netCDF Operators version 4.7.8 (Homepage = http://nco.sf.net, Code = http://github.com/nco/nco)\n",
       "    title: MYD08_D3_6_1_Cloud_Fraction_Mean (60E_0N_110E_40N)\n",
       "    history: Sat Dec  4 17:39:49 2021: /usr/bin/ncatted -a title,global,o,c,MYD08_D3_6_1_Cloud_Fraction_Mean (60E_0N_110E_40N) -a valid_range,,d,, -O -o ./subsetted.MYD08_D3_6_1_Cloud_Fraction_Mean.20190531.60E_0N_110E_40N.nc ./subsetted.MYD08_D3_6_1_Cloud_Fraction_Mean.20190531.60E_0N_110E_40N.nc\n",
       "    dimensions(sizes): time(1), lat(40), lon(50), latv(2), lonv(2), nv(2)\n",
       "    variables(dimensions): float64 MYD08_D3_6_1_Cloud_Fraction_Mean(time, lat, lon), int32 dataday(time), float32 lat(lat), float64 lat_bnds(lat, latv), float32 lon(lon), float64 lon_bnds(lon, lonv), int32 time(time), int32 time_bnds(time, nv)\n",
       "    groups: "
      ]
     },
     "execution_count": 2,
     "metadata": {},
     "output_type": "execute_result"
    }
   ],
   "source": [
    "#reading file and extracting the parameter of interests\n",
    "\n",
    "file = nc.Dataset('g4.subsetted.MYD08_D3_6_1_Cloud_Fraction_Mean.20190531.60E_0N_110E_40N.nc','r')\n",
    "file"
   ]
  },
  {
   "cell_type": "code",
   "execution_count": 3,
   "id": "3e783615",
   "metadata": {},
   "outputs": [
    {
     "name": "stdout",
     "output_type": "stream",
     "text": [
      "MYD08_D3_6_1_Cloud_Fraction_Mean\n",
      "dataday\n",
      "lat\n",
      "lat_bnds\n",
      "lon\n",
      "lon_bnds\n",
      "time\n",
      "time_bnds\n"
     ]
    }
   ],
   "source": [
    "for var in file.variables:\n",
    "    print(var)"
   ]
  },
  {
   "cell_type": "code",
   "execution_count": 4,
   "id": "6127e12f",
   "metadata": {},
   "outputs": [],
   "source": [
    "lats = file.variables[\"lat\"][:]\n",
    "lons = file.variables[\"lon\"][:]"
   ]
  },
  {
   "cell_type": "code",
   "execution_count": 6,
   "id": "cb57cd1f",
   "metadata": {},
   "outputs": [
    {
     "data": {
      "image/png": "[encoded data removed]",
      "text/plain": [
       "<Figure size 432x288 with 2 Axes>"
      ]
     },
     "metadata": {
      "needs_background": "light"
     },
     "output_type": "display_data"
    }
   ],
   "source": [
    "#ploing the contour plot\n",
    "\n",
    "lon, lat = np.meshgrid(lons, lats) # create a matrix of coordinates\n",
    "dummy = plt.contourf(lon, lat, file['MYD08_D3_6_1_Cloud_Fraction_Mean'][0,:,:])\n",
    "cbar = plt.colorbar(dummy)\n",
    "#plt.colorbar()\n",
    "plt.xlabel('lon')\n",
    "plt.ylabel(' lat')\n",
    "cbar.set_label('your label here')\n",
    "#plt.grid()"
   ]
  },
  {
   "cell_type": "markdown",
   "id": "66396ffa",
   "metadata": {},
   "source": [
    "## 2. Using xarray"
   ]
  },
  {
   "cell_type": "code",
   "execution_count": null,
   "id": "6ae09a54",
   "metadata": {},
   "outputs": [],
   "source": [
    "# all other library do required \n",
    "import xarray as xr\n",
    "import numpy as np\n",
    "import matplotlib.pyplot as plt"
   ]
  },
  {
   "cell_type": "code",
   "execution_count": null,
   "id": "a63e685e",
   "metadata": {},
   "outputs": [],
   "source": [
    "xfile =xr.open_dataset('path to file')\n"
   ]
  },
  {
   "cell_type": "code",
   "execution_count": null,
   "id": "08bcd683",
   "metadata": {},
   "outputs": [],
   "source": [
    "for var in xfile.variables:\n",
    "    print(var)"
   ]
  },
  {
   "cell_type": "code",
   "execution_count": null,
   "id": "824ce4cd",
   "metadata": {},
   "outputs": [],
   "source": [
    "lats = xfile.variables[\"lat\"][:]\n",
    "lons = xfile.variables[\"lon\"][:]"
   ]
  },
  {
   "cell_type": "code",
   "execution_count": null,
   "id": "1f27eb0b",
   "metadata": {},
   "outputs": [],
   "source": [
    "lon, lat = np.meshgrid(lons, lats) # create a matrix of coordinates\n",
    "plt.contourf(lon, lat, file['variable'][0,:,:])\n",
    "plt.colorbar()\n",
    "plt.xlabel('lon')\n",
    "plt.ylabel('lat')\n",
    "plt.grid()"
   ]
  },
  {
   "cell_type": "code",
   "execution_count": 1,
   "id": "b8d67b78",
   "metadata": {},
   "outputs": [
    {
     "ename": "RuntimeError",
     "evalue": "\n\nAmbiguous 'iris' package.\nPlease use either:\n\n**illumon-iris** - Python integration for Illumon Iris, a time-series database\n  - pip install illumon-iris\n  - https://pypi.python.org/pypi/illumon-iris\n  - https://deephaven.io/\n\n**SciTools Iris** - Python library for analysing and visualising meteorological and oceanographic data sets\n  - http://scitools.org.uk/iris/\n\n**info.gianlucacosta.iris** - A general-purpose library for Python\n  - pip install info.gianlucacosta.iris\n  - https://pypi.python.org/pypi/info.gianlucacosta.iris\n\n**irisapi** - Iris is a highly configurable and flexible service for paging and messaging\n  - pip install irisapi\n  - https://pypi.org/project/irisapi/\n  - https://iris.claims/\n",
     "output_type": "error",
     "traceback": [
      "\u001b[0;31m---------------------------------------------------------------------------\u001b[0m",
      "\u001b[0;31mRuntimeError\u001b[0m                              Traceback (most recent call last)",
      "\u001b[0;32m/tmp/ipykernel_6217/1951808917.py\u001b[0m in \u001b[0;36m<module>\u001b[0;34m\u001b[0m\n\u001b[0;32m----> 1\u001b[0;31m \u001b[0;32mimport\u001b[0m \u001b[0miris\u001b[0m\u001b[0;34m\u001b[0m\u001b[0;34m\u001b[0m\u001b[0m\n\u001b[0m",
      "\u001b[0;32m~/anaconda3/lib/python3.9/site-packages/iris/__init__.py\u001b[0m in \u001b[0;36m<module>\u001b[0;34m\u001b[0m\n\u001b[0;32m----> 1\u001b[0;31m raise RuntimeError(\"\"\"\n\u001b[0m\u001b[1;32m      2\u001b[0m \u001b[0;34m\u001b[0m\u001b[0m\n\u001b[1;32m      3\u001b[0m \u001b[0mAmbiguous\u001b[0m \u001b[0;34m'iris'\u001b[0m \u001b[0mpackage\u001b[0m\u001b[0;34m.\u001b[0m\u001b[0;34m\u001b[0m\u001b[0;34m\u001b[0m\u001b[0m\n\u001b[1;32m      4\u001b[0m \u001b[0mPlease\u001b[0m \u001b[0muse\u001b[0m \u001b[0meither\u001b[0m\u001b[0;34m:\u001b[0m\u001b[0;34m\u001b[0m\u001b[0;34m\u001b[0m\u001b[0m\n\u001b[1;32m      5\u001b[0m \u001b[0;34m\u001b[0m\u001b[0m\n",
      "\u001b[0;31mRuntimeError\u001b[0m: \n\nAmbiguous 'iris' package.\nPlease use either:\n\n**illumon-iris** - Python integration for Illumon Iris, a time-series database\n  - pip install illumon-iris\n  - https://pypi.python.org/pypi/illumon-iris\n  - https://deephaven.io/\n\n**SciTools Iris** - Python library for analysing and visualising meteorological and oceanographic data sets\n  - http://scitools.org.uk/iris/\n\n**info.gianlucacosta.iris** - A general-purpose library for Python\n  - pip install info.gianlucacosta.iris\n  - https://pypi.python.org/pypi/info.gianlucacosta.iris\n\n**irisapi** - Iris is a highly configurable and flexible service for paging and messaging\n  - pip install irisapi\n  - https://pypi.org/project/irisapi/\n  - https://iris.claims/\n"
     ]
    }
   ],
   "source": [
    "import iris"
   ]
  },
  {
   "cell_type": "code",
   "execution_count": null,
   "id": "c678bb29",
   "metadata": {},
   "outputs": [],
   "source": []
  }
 ],
 "metadata": {
  "kernelspec": {
   "display_name": "Python 3",
   "language": "python",
   "name": "python3"
  },
  "language_info": {
   "codemirror_mode": {
    "name": "ipython",
    "version": 3
   },
   "file_extension": ".py",
   "mimetype": "text/x-python",
   "name": "python",
   "nbconvert_exporter": "python",
   "pygments_lexer": "ipython3",
   "version": "3.9.7"
  }
 },
 "nbformat": 4,
 "nbformat_minor": 5
}
