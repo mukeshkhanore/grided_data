{
 "cells": [
  {
   "cell_type": "markdown",
   "id": "ae3ebb5f",
   "metadata": {},
   "source": [
    "# Resampling the timeseries data"
   ]
  },
  {
   "cell_type": "code",
   "execution_count": null,
   "id": "d05acc67",
   "metadata": {},
   "outputs": [],
   "source": [
    "import pandas as pd\n",
    "#import matplotlib.pyplot as plt"
   ]
  },
  {
   "cell_type": "code",
   "execution_count": null,
   "id": "47418243",
   "metadata": {},
   "outputs": [],
   "source": [
    "data = pd.read_csv('test_data.csv',parse_dates =[\"datetime\"], index_col =\"datetime\")\n",
    "data"
   ]
  },
  {
   "cell_type": "code",
   "execution_count": null,
   "id": "d1d82497",
   "metadata": {},
   "outputs": [],
   "source": [
    "data.index = pd.to_datetime(data.index)\n",
    "data = data.resample('5T').mean()#filling all resample data with nan\n",
    "data"
   ]
  },
  {
   "cell_type": "code",
   "execution_count": null,
   "id": "41ff7e21",
   "metadata": {},
   "outputs": [],
   "source": [
    "data = data.resample('5T').mean().interpolate(method='time',order=0)\n",
    "data#.head(20)"
   ]
  },
  {
   "cell_type": "code",
   "execution_count": null,
   "id": "29b8d93f",
   "metadata": {},
   "outputs": [],
   "source": []
  }
 ],
 "metadata": {
  "kernelspec": {
   "display_name": "Python 3",
   "language": "python",
   "name": "python3"
  },
  "language_info": {
   "codemirror_mode": {
    "name": "ipython",
    "version": 3
   },
   "file_extension": ".py",
   "mimetype": "text/x-python",
   "name": "python",
   "nbconvert_exporter": "python",
   "pygments_lexer": "ipython3",
   "version": "3.9.7"
  }
 },
 "nbformat": 4,
 "nbformat_minor": 5
}
